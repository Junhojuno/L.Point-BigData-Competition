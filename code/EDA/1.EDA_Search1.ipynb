{
 "cells": [
  {
   "cell_type": "markdown",
   "metadata": {},
   "source": [
    "### 검색어1 : 상품을 구매한 방문자가 검색창에 입력한 검색어의 검색량\n",
    "- 검색을 했다는 건 수요가 어느정도 있다는 얘기 아닐까?\n",
    "- 검색횟수가 많다 = 수요가 크다...?"
   ]
  },
  {
   "cell_type": "code",
   "execution_count": 1,
   "metadata": {},
   "outputs": [
    {
     "data": {
      "text/html": [
       "<div>\n",
       "<style scoped>\n",
       "    .dataframe tbody tr th:only-of-type {\n",
       "        vertical-align: middle;\n",
       "    }\n",
       "\n",
       "    .dataframe tbody tr th {\n",
       "        vertical-align: top;\n",
       "    }\n",
       "\n",
       "    .dataframe thead th {\n",
       "        text-align: right;\n",
       "    }\n",
       "</style>\n",
       "<table border=\"1\" class=\"dataframe\">\n",
       "  <thead>\n",
       "    <tr style=\"text-align: right;\">\n",
       "      <th></th>\n",
       "      <th>CLNT_ID</th>\n",
       "      <th>SESS_ID</th>\n",
       "      <th>KWD_NM</th>\n",
       "      <th>SEARCH_CNT</th>\n",
       "    </tr>\n",
       "  </thead>\n",
       "  <tbody>\n",
       "    <tr>\n",
       "      <th>2884938</th>\n",
       "      <td>6391796</td>\n",
       "      <td>1822515</td>\n",
       "      <td>일자핏</td>\n",
       "      <td>1</td>\n",
       "    </tr>\n",
       "    <tr>\n",
       "      <th>2884939</th>\n",
       "      <td>6391796</td>\n",
       "      <td>1822515</td>\n",
       "      <td>화이트티셔츠</td>\n",
       "      <td>1</td>\n",
       "    </tr>\n",
       "    <tr>\n",
       "      <th>2884940</th>\n",
       "      <td>6391796</td>\n",
       "      <td>764020</td>\n",
       "      <td>양말</td>\n",
       "      <td>6</td>\n",
       "    </tr>\n",
       "    <tr>\n",
       "      <th>2884941</th>\n",
       "      <td>6391796</td>\n",
       "      <td>1822515</td>\n",
       "      <td>어항</td>\n",
       "      <td>2</td>\n",
       "    </tr>\n",
       "    <tr>\n",
       "      <th>2884942</th>\n",
       "      <td>6391931</td>\n",
       "      <td>1568433</td>\n",
       "      <td>블랙야크키즈</td>\n",
       "      <td>1</td>\n",
       "    </tr>\n",
       "  </tbody>\n",
       "</table>\n",
       "</div>"
      ],
      "text/plain": [
       "         CLNT_ID  SESS_ID  KWD_NM  SEARCH_CNT\n",
       "2884938  6391796  1822515     일자핏           1\n",
       "2884939  6391796  1822515  화이트티셔츠           1\n",
       "2884940  6391796   764020      양말           6\n",
       "2884941  6391796  1822515      어항           2\n",
       "2884942  6391931  1568433  블랙야크키즈           1"
      ]
     },
     "execution_count": 1,
     "metadata": {},
     "output_type": "execute_result"
    }
   ],
   "source": [
    "sch1 = pd.read_csv(\"../../data/02_Search1.csv\")\n",
    "sch1.tail()"
   ]
  },
  {
   "cell_type": "code",
   "execution_count": 3,
   "metadata": {},
   "outputs": [
    {
     "data": {
      "text/html": [
       "<div>\n",
       "<style scoped>\n",
       "    .dataframe tbody tr th:only-of-type {\n",
       "        vertical-align: middle;\n",
       "    }\n",
       "\n",
       "    .dataframe tbody tr th {\n",
       "        vertical-align: top;\n",
       "    }\n",
       "\n",
       "    .dataframe thead th {\n",
       "        text-align: right;\n",
       "    }\n",
       "</style>\n",
       "<table border=\"1\" class=\"dataframe\">\n",
       "  <thead>\n",
       "    <tr style=\"text-align: right;\">\n",
       "      <th></th>\n",
       "      <th>CLNT_ID</th>\n",
       "      <th>SESS_ID</th>\n",
       "      <th>KWD_NM</th>\n",
       "      <th>SEARCH_CNT</th>\n",
       "    </tr>\n",
       "  </thead>\n",
       "  <tbody>\n",
       "    <tr>\n",
       "      <th>2884937</th>\n",
       "      <td>6391796</td>\n",
       "      <td>1521999</td>\n",
       "      <td>여성슬립온</td>\n",
       "      <td>5</td>\n",
       "    </tr>\n",
       "    <tr>\n",
       "      <th>2884938</th>\n",
       "      <td>6391796</td>\n",
       "      <td>1822515</td>\n",
       "      <td>일자핏</td>\n",
       "      <td>1</td>\n",
       "    </tr>\n",
       "    <tr>\n",
       "      <th>2884939</th>\n",
       "      <td>6391796</td>\n",
       "      <td>1822515</td>\n",
       "      <td>화이트티셔츠</td>\n",
       "      <td>1</td>\n",
       "    </tr>\n",
       "    <tr>\n",
       "      <th>2884940</th>\n",
       "      <td>6391796</td>\n",
       "      <td>764020</td>\n",
       "      <td>양말</td>\n",
       "      <td>6</td>\n",
       "    </tr>\n",
       "    <tr>\n",
       "      <th>2884941</th>\n",
       "      <td>6391796</td>\n",
       "      <td>1822515</td>\n",
       "      <td>어항</td>\n",
       "      <td>2</td>\n",
       "    </tr>\n",
       "  </tbody>\n",
       "</table>\n",
       "</div>"
      ],
      "text/plain": [
       "         CLNT_ID  SESS_ID  KWD_NM  SEARCH_CNT\n",
       "2884937  6391796  1521999   여성슬립온           5\n",
       "2884938  6391796  1822515     일자핏           1\n",
       "2884939  6391796  1822515  화이트티셔츠           1\n",
       "2884940  6391796   764020      양말           6\n",
       "2884941  6391796  1822515      어항           2"
      ]
     },
     "execution_count": 3,
     "metadata": {},
     "output_type": "execute_result"
    }
   ],
   "source": [
    "sch1[sch1.CLNT_ID==6391796]"
   ]
  },
  {
   "cell_type": "markdown",
   "metadata": {},
   "source": [
    "### 궁금증\n",
    "- product에서 보면 'CLNT_ID==6391796'은 쥬얼리, 악세사리, 코트..등등을 샀는데, 검색어엔 하나도 안들어가있네?\n",
    "    - 검색을 안하고 뭔가(예를들면 best item)를 보고 눌러서 장바구니에 넣고 구매했다...?\n",
    "- 여성슬립온의 경우 페이퍼플레인을 구매한 data가 있다.\n",
    "- **결국 검색이 구매로 이어진 경우와 그렇지 않고 UX적으로 눈에 띈 제품을 산 경우로 나눠서 볼 수 있을까?**\n",
    "- **수요는 있었지만 마땅한 공급이 없었던 경우(양말) vs 공급이 잠재적 수요를 끌어낸 경우(슬립온)**"
   ]
  },
  {
   "cell_type": "markdown",
   "metadata": {},
   "source": [
    "---"
   ]
  },
  {
   "cell_type": "code",
   "execution_count": null,
   "metadata": {},
   "outputs": [],
   "source": [
    "# "
   ]
  },
  {
   "cell_type": "code",
   "execution_count": null,
   "metadata": {},
   "outputs": [],
   "source": []
  },
  {
   "cell_type": "code",
   "execution_count": null,
   "metadata": {},
   "outputs": [],
   "source": []
  },
  {
   "cell_type": "code",
   "execution_count": null,
   "metadata": {},
   "outputs": [],
   "source": []
  },
  {
   "cell_type": "code",
   "execution_count": null,
   "metadata": {},
   "outputs": [],
   "source": []
  }
 ],
 "metadata": {
  "kernelspec": {
   "display_name": "Python 3",
   "language": "python",
   "name": "python3"
  },
  "language_info": {
   "codemirror_mode": {
    "name": "ipython",
    "version": 3
   },
   "file_extension": ".py",
   "mimetype": "text/x-python",
   "name": "python",
   "nbconvert_exporter": "python",
   "pygments_lexer": "ipython3",
   "version": "3.6.6"
  }
 },
 "nbformat": 4,
 "nbformat_minor": 2
}
