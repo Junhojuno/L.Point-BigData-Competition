{
 "cells": [
  {
   "cell_type": "markdown",
   "metadata": {},
   "source": [
    "### Master : 상품별 상품명, 대/중/소 분류명 정보"
   ]
  },
  {
   "cell_type": "code",
   "execution_count": 1,
   "metadata": {},
   "outputs": [
    {
     "data": {
      "text/html": [
       "<div>\n",
       "<style scoped>\n",
       "    .dataframe tbody tr th:only-of-type {\n",
       "        vertical-align: middle;\n",
       "    }\n",
       "\n",
       "    .dataframe tbody tr th {\n",
       "        vertical-align: top;\n",
       "    }\n",
       "\n",
       "    .dataframe thead th {\n",
       "        text-align: right;\n",
       "    }\n",
       "</style>\n",
       "<table border=\"1\" class=\"dataframe\">\n",
       "  <thead>\n",
       "    <tr style=\"text-align: right;\">\n",
       "      <th></th>\n",
       "      <th>PD_C</th>\n",
       "      <th>PD_NM</th>\n",
       "      <th>CLAC1_NM</th>\n",
       "      <th>CLAC2_NM</th>\n",
       "      <th>CLAC3_NM</th>\n",
       "    </tr>\n",
       "  </thead>\n",
       "  <tbody>\n",
       "    <tr>\n",
       "      <th>847647</th>\n",
       "      <td>400721</td>\n",
       "      <td>[피핀] 클레르 박스 롱티셔츠 103764 - ivory / FREE ◈85564075◈</td>\n",
       "      <td>여성의류</td>\n",
       "      <td>여성의류상의</td>\n",
       "      <td>여성티셔츠/탑</td>\n",
       "    </tr>\n",
       "    <tr>\n",
       "      <th>847648</th>\n",
       "      <td>400382</td>\n",
       "      <td>[바니플랫]여성플랫/BNF63011EN - 브라운 / 245 ◈83660832◈</td>\n",
       "      <td>패션잡화</td>\n",
       "      <td>여성화</td>\n",
       "      <td>여성플랫</td>\n",
       "    </tr>\n",
       "    <tr>\n",
       "      <th>847649</th>\n",
       "      <td>400197</td>\n",
       "      <td>섀르반 올인원 수영복 (K14D5DM231) - BL/110</td>\n",
       "      <td>시즌스포츠</td>\n",
       "      <td>수영/물놀이</td>\n",
       "      <td>아동수영복</td>\n",
       "    </tr>\n",
       "    <tr>\n",
       "      <th>847650</th>\n",
       "      <td>399225</td>\n",
       "      <td>링클플리츠주름밴딩스커트(CFHM1SK8821) - 블랙 / FREE</td>\n",
       "      <td>여성의류</td>\n",
       "      <td>여성의류하의</td>\n",
       "      <td>여성스커트</td>\n",
       "    </tr>\n",
       "    <tr>\n",
       "      <th>847651</th>\n",
       "      <td>306289</td>\n",
       "      <td>클라이마쿨 쇼츠 [CX3564] - CX3564(그레이) / M</td>\n",
       "      <td>스포츠패션</td>\n",
       "      <td>남성일반스포츠의류</td>\n",
       "      <td>남성일반스포츠바지</td>\n",
       "    </tr>\n",
       "  </tbody>\n",
       "</table>\n",
       "</div>"
      ],
      "text/plain": [
       "          PD_C                                              PD_NM CLAC1_NM  \\\n",
       "847647  400721  [피핀] 클레르 박스 롱티셔츠 103764 - ivory / FREE ◈85564075◈     여성의류   \n",
       "847648  400382       [바니플랫]여성플랫/BNF63011EN - 브라운 / 245 ◈83660832◈     패션잡화   \n",
       "847649  400197                  섀르반 올인원 수영복 (K14D5DM231) - BL/110    시즌스포츠   \n",
       "847650  399225              링클플리츠주름밴딩스커트(CFHM1SK8821) - 블랙 / FREE     여성의류   \n",
       "847651  306289                클라이마쿨 쇼츠 [CX3564] - CX3564(그레이) / M    스포츠패션   \n",
       "\n",
       "         CLAC2_NM   CLAC3_NM  \n",
       "847647     여성의류상의    여성티셔츠/탑  \n",
       "847648        여성화       여성플랫  \n",
       "847649     수영/물놀이      아동수영복  \n",
       "847650     여성의류하의      여성스커트  \n",
       "847651  남성일반스포츠의류  남성일반스포츠바지  "
      ]
     },
     "execution_count": 1,
     "metadata": {},
     "output_type": "execute_result"
    }
   ],
   "source": [
    "master = pd.read_csv(\"../../data/06_Master.csv\")\n",
    "master.tail()"
   ]
  },
  {
   "cell_type": "code",
   "execution_count": 6,
   "metadata": {},
   "outputs": [
    {
     "name": "stdout",
     "output_type": "stream",
     "text": [
      "column: PD_NM, nunique: 817421\n",
      "column: CLAC1_NM, nunique: 37\n",
      "column: CLAC2_NM, nunique: 128\n",
      "column: CLAC3_NM, nunique: 898\n"
     ]
    }
   ],
   "source": [
    "for i in master.columns[1:]:\n",
    "    print(\"column: {}, nunique: {}\".format(i,master[i].nunique()))"
   ]
  },
  {
   "cell_type": "code",
   "execution_count": 5,
   "metadata": {},
   "outputs": [
    {
     "name": "stdout",
     "output_type": "stream",
     "text": [
      "37 \n",
      " ['스포츠패션' '속옷/양말/홈웨어' '유아동의류' '패션잡화' '남성의류' '여성의류' '건강식품' '식기/조리기구' '주방잡화'\n",
      " '시즌스포츠' '화장품/뷰티케어' '냉동식품' '상품권' '침구/수예' '완구' '생활/주방가전' '문구/사무용품' '퍼스널케어'\n",
      " '헬스/피트니스' '출산/육아용품' '계절가전' '청소/세탁/욕실용품' '원예/애완' '냉장/세탁가전' '구기/필드스포츠'\n",
      " '아웃도어/레저' '과일' '모바일' '세제/위생' '가구' '컴퓨터' '영상/음향가전' '냉장식품' '축산물' '음료'\n",
      " '인테리어/조명' '자동차용품']\n"
     ]
    }
   ],
   "source": [
    "print(master['CLAC1_NM'].nunique(),\"\\n\",master['CLAC1_NM'].unique())"
   ]
  },
  {
   "cell_type": "code",
   "execution_count": 3,
   "metadata": {},
   "outputs": [
    {
     "name": "stdout",
     "output_type": "stream",
     "text": [
      "817421 \n",
      " 0\n"
     ]
    }
   ],
   "source": [
    "print(master['PD_NM'].nunique(),\"\\n\",sum(master['CLAC1_NM'].isna()))"
   ]
  },
  {
   "cell_type": "code",
   "execution_count": 3,
   "metadata": {},
   "outputs": [
    {
     "data": {
      "text/html": [
       "<div>\n",
       "<style scoped>\n",
       "    .dataframe tbody tr th:only-of-type {\n",
       "        vertical-align: middle;\n",
       "    }\n",
       "\n",
       "    .dataframe tbody tr th {\n",
       "        vertical-align: top;\n",
       "    }\n",
       "\n",
       "    .dataframe thead th {\n",
       "        text-align: right;\n",
       "    }\n",
       "</style>\n",
       "<table border=\"1\" class=\"dataframe\">\n",
       "  <thead>\n",
       "    <tr style=\"text-align: right;\">\n",
       "      <th></th>\n",
       "      <th>PD_C</th>\n",
       "      <th>PD_NM</th>\n",
       "      <th>CLAC1_NM</th>\n",
       "      <th>CLAC2_NM</th>\n",
       "      <th>CLAC3_NM</th>\n",
       "    </tr>\n",
       "  </thead>\n",
       "  <tbody>\n",
       "    <tr>\n",
       "      <th>43768</th>\n",
       "      <td>743889</td>\n",
       "      <td>14K 다이아몬드 목걸이 G1609D</td>\n",
       "      <td>패션잡화</td>\n",
       "      <td>보석</td>\n",
       "      <td>목걸이</td>\n",
       "    </tr>\n",
       "  </tbody>\n",
       "</table>\n",
       "</div>"
      ],
      "text/plain": [
       "         PD_C                 PD_NM CLAC1_NM CLAC2_NM CLAC3_NM\n",
       "43768  743889  14K 다이아몬드 목걸이 G1609D     패션잡화       보석      목걸이"
      ]
     },
     "execution_count": 3,
     "metadata": {},
     "output_type": "execute_result"
    }
   ],
   "source": [
    "master[master['PD_C']==743889] # product에서 PD_ADD_NM에 (not set)이라고 적혀있던 데이터 "
   ]
  },
  {
   "cell_type": "code",
   "execution_count": 5,
   "metadata": {},
   "outputs": [
    {
     "data": {
      "text/html": [
       "<div>\n",
       "<style scoped>\n",
       "    .dataframe tbody tr th:only-of-type {\n",
       "        vertical-align: middle;\n",
       "    }\n",
       "\n",
       "    .dataframe tbody tr th {\n",
       "        vertical-align: top;\n",
       "    }\n",
       "\n",
       "    .dataframe thead th {\n",
       "        text-align: right;\n",
       "    }\n",
       "</style>\n",
       "<table border=\"1\" class=\"dataframe\">\n",
       "  <thead>\n",
       "    <tr style=\"text-align: right;\">\n",
       "      <th></th>\n",
       "      <th>PD_C</th>\n",
       "      <th>PD_NM</th>\n",
       "      <th>CLAC1_NM</th>\n",
       "      <th>CLAC2_NM</th>\n",
       "      <th>CLAC3_NM</th>\n",
       "    </tr>\n",
       "  </thead>\n",
       "  <tbody>\n",
       "    <tr>\n",
       "      <th>12922</th>\n",
       "      <td>230656</td>\n",
       "      <td>플로럴 리본타이 프릴소매 블라우스 (GH7A0BL10) - (47)네이비 / 77</td>\n",
       "      <td>여성의류</td>\n",
       "      <td>여성의류상의</td>\n",
       "      <td>여성남방셔츠</td>\n",
       "    </tr>\n",
       "    <tr>\n",
       "      <th>250704</th>\n",
       "      <td>431123</td>\n",
       "      <td>데일리 머메이드 실루엣 스커트(GH5A0SK57) - (47)네이비 / 55</td>\n",
       "      <td>여성의류</td>\n",
       "      <td>여성의류하의</td>\n",
       "      <td>여성스커트</td>\n",
       "    </tr>\n",
       "  </tbody>\n",
       "</table>\n",
       "</div>"
      ],
      "text/plain": [
       "          PD_C                                          PD_NM CLAC1_NM  \\\n",
       "12922   230656  플로럴 리본타이 프릴소매 블라우스 (GH7A0BL10) - (47)네이비 / 77     여성의류   \n",
       "250704  431123     데일리 머메이드 실루엣 스커트(GH5A0SK57) - (47)네이비 / 55     여성의류   \n",
       "\n",
       "       CLAC2_NM CLAC3_NM  \n",
       "12922    여성의류상의   여성남방셔츠  \n",
       "250704   여성의류하의    여성스커트  "
      ]
     },
     "execution_count": 5,
     "metadata": {},
     "output_type": "execute_result"
    }
   ],
   "source": [
    "master[(master['PD_C']==230656) | (master['PD_C']==431123)]"
   ]
  },
  {
   "cell_type": "markdown",
   "metadata": {},
   "source": [
    "product에서 'PD_C=230656'는 55사이즈였는데..?"
   ]
  },
  {
   "cell_type": "code",
   "execution_count": null,
   "metadata": {},
   "outputs": [],
   "source": []
  }
 ],
 "metadata": {
  "kernelspec": {
   "display_name": "Python 3",
   "language": "python",
   "name": "python3"
  },
  "language_info": {
   "codemirror_mode": {
    "name": "ipython",
    "version": 3
   },
   "file_extension": ".py",
   "mimetype": "text/x-python",
   "name": "python",
   "nbconvert_exporter": "python",
   "pygments_lexer": "ipython3",
   "version": "3.6.6"
  }
 },
 "nbformat": 4,
 "nbformat_minor": 2
}
