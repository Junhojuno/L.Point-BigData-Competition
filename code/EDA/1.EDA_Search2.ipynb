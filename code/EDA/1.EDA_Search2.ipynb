{
 "cells": [
  {
   "cell_type": "markdown",
   "metadata": {},
   "source": [
    "### 검색어2 : 분석데이터 기간(18.04~18.09) 내 일별/검색어별 검색량"
   ]
  },
  {
   "cell_type": "code",
   "execution_count": 1,
   "metadata": {
    "scrolled": true
   },
   "outputs": [
    {
     "data": {
      "text/html": [
       "<div>\n",
       "<style scoped>\n",
       "    .dataframe tbody tr th:only-of-type {\n",
       "        vertical-align: middle;\n",
       "    }\n",
       "\n",
       "    .dataframe tbody tr th {\n",
       "        vertical-align: top;\n",
       "    }\n",
       "\n",
       "    .dataframe thead th {\n",
       "        text-align: right;\n",
       "    }\n",
       "</style>\n",
       "<table border=\"1\" class=\"dataframe\">\n",
       "  <thead>\n",
       "    <tr style=\"text-align: right;\">\n",
       "      <th></th>\n",
       "      <th>SESS_DT</th>\n",
       "      <th>KWD_NM</th>\n",
       "      <th>SEARCH_CNT</th>\n",
       "    </tr>\n",
       "  </thead>\n",
       "  <tbody>\n",
       "    <tr>\n",
       "      <th>8051167</th>\n",
       "      <td>20180912</td>\n",
       "      <td>stl수영복</td>\n",
       "      <td>3</td>\n",
       "    </tr>\n",
       "    <tr>\n",
       "      <th>8051168</th>\n",
       "      <td>20180912</td>\n",
       "      <td>supreme</td>\n",
       "      <td>2</td>\n",
       "    </tr>\n",
       "    <tr>\n",
       "      <th>8051169</th>\n",
       "      <td>20180912</td>\n",
       "      <td>tsdjpi82010</td>\n",
       "      <td>17</td>\n",
       "    </tr>\n",
       "    <tr>\n",
       "      <th>8051170</th>\n",
       "      <td>20180912</td>\n",
       "      <td>zen정장</td>\n",
       "      <td>12</td>\n",
       "    </tr>\n",
       "    <tr>\n",
       "      <th>8051171</th>\n",
       "      <td>20180912</td>\n",
       "      <td>가죽 슬립온</td>\n",
       "      <td>1</td>\n",
       "    </tr>\n",
       "  </tbody>\n",
       "</table>\n",
       "</div>"
      ],
      "text/plain": [
       "          SESS_DT       KWD_NM SEARCH_CNT\n",
       "8051167  20180912       stl수영복          3\n",
       "8051168  20180912      supreme          2\n",
       "8051169  20180912  tsdjpi82010         17\n",
       "8051170  20180912        zen정장         12\n",
       "8051171  20180912       가죽 슬립온          1"
      ]
     },
     "execution_count": 1,
     "metadata": {},
     "output_type": "execute_result"
    }
   ],
   "source": [
    "sch2 = pd.read_csv(\"../../data/03_Search2.csv\")\n",
    "sch2.tail()"
   ]
  },
  {
   "cell_type": "code",
   "execution_count": 7,
   "metadata": {},
   "outputs": [
    {
     "name": "stdout",
     "output_type": "stream",
     "text": [
      "<class 'pandas.core.frame.DataFrame'>\n",
      "RangeIndex: 8051172 entries, 0 to 8051171\n",
      "Data columns (total 3 columns):\n",
      "SESS_DT       int64\n",
      "KWD_NM        object\n",
      "SEARCH_CNT    object\n",
      "dtypes: int64(1), object(2)\n",
      "memory usage: 184.3+ MB\n"
     ]
    }
   ],
   "source": [
    "sch2.info()"
   ]
  },
  {
   "cell_type": "code",
   "execution_count": 11,
   "metadata": {},
   "outputs": [
    {
     "data": {
      "text/html": [
       "<div>\n",
       "<style scoped>\n",
       "    .dataframe tbody tr th:only-of-type {\n",
       "        vertical-align: middle;\n",
       "    }\n",
       "\n",
       "    .dataframe tbody tr th {\n",
       "        vertical-align: top;\n",
       "    }\n",
       "\n",
       "    .dataframe thead th {\n",
       "        text-align: right;\n",
       "    }\n",
       "</style>\n",
       "<table border=\"1\" class=\"dataframe\">\n",
       "  <thead>\n",
       "    <tr style=\"text-align: right;\">\n",
       "      <th></th>\n",
       "      <th>SESS_DT</th>\n",
       "      <th>KWD_NM</th>\n",
       "      <th>SEARCH_CNT</th>\n",
       "      <th>SEARCH_CNT_int</th>\n",
       "    </tr>\n",
       "  </thead>\n",
       "  <tbody>\n",
       "    <tr>\n",
       "      <th>8051167</th>\n",
       "      <td>20180912</td>\n",
       "      <td>stl수영복</td>\n",
       "      <td>3</td>\n",
       "      <td>3</td>\n",
       "    </tr>\n",
       "    <tr>\n",
       "      <th>8051168</th>\n",
       "      <td>20180912</td>\n",
       "      <td>supreme</td>\n",
       "      <td>2</td>\n",
       "      <td>2</td>\n",
       "    </tr>\n",
       "    <tr>\n",
       "      <th>8051169</th>\n",
       "      <td>20180912</td>\n",
       "      <td>tsdjpi82010</td>\n",
       "      <td>17</td>\n",
       "      <td>17</td>\n",
       "    </tr>\n",
       "    <tr>\n",
       "      <th>8051170</th>\n",
       "      <td>20180912</td>\n",
       "      <td>zen정장</td>\n",
       "      <td>12</td>\n",
       "      <td>12</td>\n",
       "    </tr>\n",
       "    <tr>\n",
       "      <th>8051171</th>\n",
       "      <td>20180912</td>\n",
       "      <td>가죽 슬립온</td>\n",
       "      <td>1</td>\n",
       "      <td>1</td>\n",
       "    </tr>\n",
       "  </tbody>\n",
       "</table>\n",
       "</div>"
      ],
      "text/plain": [
       "          SESS_DT       KWD_NM SEARCH_CNT  SEARCH_CNT_int\n",
       "8051167  20180912       stl수영복          3               3\n",
       "8051168  20180912      supreme          2               2\n",
       "8051169  20180912  tsdjpi82010         17              17\n",
       "8051170  20180912        zen정장         12              12\n",
       "8051171  20180912       가죽 슬립온          1               1"
      ]
     },
     "execution_count": 11,
     "metadata": {},
     "output_type": "execute_result"
    }
   ],
   "source": [
    "# SEARCH_CNT의 데이터 타입 변경\n",
    "# 데이터 내 ','제거 후 integer 변환\n",
    "sch2['SEARCH_CNT_int'] = sch2['SEARCH_CNT'].map(lambda x : int(\"\".join(x.split(','))) if ',' in x else int(x))\n",
    "sch2.tail()"
   ]
  },
  {
   "cell_type": "markdown",
   "metadata": {},
   "source": [
    "### 궁금증\n",
    "- 4~9월 사이의 data인데, tsdjpi82010(롱패딩)은 왜 검색한거지? 세일했나? 역시즌 할인행사?"
   ]
  },
  {
   "cell_type": "code",
   "execution_count": 12,
   "metadata": {},
   "outputs": [
    {
     "name": "stdout",
     "output_type": "stream",
     "text": [
      "<class 'pandas.core.frame.DataFrame'>\n",
      "RangeIndex: 8051172 entries, 0 to 8051171\n",
      "Data columns (total 4 columns):\n",
      "SESS_DT           int64\n",
      "KWD_NM            object\n",
      "SEARCH_CNT        object\n",
      "SEARCH_CNT_int    int64\n",
      "dtypes: int64(2), object(2)\n",
      "memory usage: 245.7+ MB\n"
     ]
    }
   ],
   "source": [
    "sch2.info()"
   ]
  },
  {
   "cell_type": "code",
   "execution_count": 19,
   "metadata": {},
   "outputs": [
    {
     "data": {
      "text/plain": [
       "count   8051172.00\n",
       "mean          8.35\n",
       "std          29.36\n",
       "min           1.00\n",
       "25%           1.00\n",
       "50%           3.00\n",
       "75%           6.00\n",
       "max        5043.00\n",
       "Name: SEARCH_CNT_int, dtype: float64"
      ]
     },
     "execution_count": 19,
     "metadata": {},
     "output_type": "execute_result"
    }
   ],
   "source": [
    "pd.options.display.float_format = '{:.2f}'.format\n",
    "sch2['SEARCH_CNT_int'].describe()"
   ]
  },
  {
   "cell_type": "code",
   "execution_count": 16,
   "metadata": {},
   "outputs": [
    {
     "data": {
      "text/html": [
       "<div>\n",
       "<style scoped>\n",
       "    .dataframe tbody tr th:only-of-type {\n",
       "        vertical-align: middle;\n",
       "    }\n",
       "\n",
       "    .dataframe tbody tr th {\n",
       "        vertical-align: top;\n",
       "    }\n",
       "\n",
       "    .dataframe thead th {\n",
       "        text-align: right;\n",
       "    }\n",
       "</style>\n",
       "<table border=\"1\" class=\"dataframe\">\n",
       "  <thead>\n",
       "    <tr style=\"text-align: right;\">\n",
       "      <th></th>\n",
       "      <th>SESS_DT</th>\n",
       "      <th>KWD_NM</th>\n",
       "      <th>SEARCH_CNT</th>\n",
       "      <th>SEARCH_CNT_int</th>\n",
       "    </tr>\n",
       "  </thead>\n",
       "  <tbody>\n",
       "    <tr>\n",
       "      <th>544491</th>\n",
       "      <td>20180521</td>\n",
       "      <td>조르지오아르마니</td>\n",
       "      <td>5,043</td>\n",
       "      <td>5043</td>\n",
       "    </tr>\n",
       "  </tbody>\n",
       "</table>\n",
       "</div>"
      ],
      "text/plain": [
       "         SESS_DT    KWD_NM SEARCH_CNT  SEARCH_CNT_int\n",
       "544491  20180521  조르지오아르마니      5,043            5043"
      ]
     },
     "execution_count": 16,
     "metadata": {},
     "output_type": "execute_result"
    }
   ],
   "source": [
    "sch2[sch2.SEARCH_CNT_int==5043]"
   ]
  },
  {
   "cell_type": "code",
   "execution_count": 24,
   "metadata": {},
   "outputs": [
    {
     "name": "stdout",
     "output_type": "stream",
     "text": [
      "colum : SESS_DT, unique count : 183\n",
      "[20180407 20180402 20180414 20180415 20180420 20180406 20180403 20180405\n",
      " 20180721 20180410 20180417 20180426 20180430 20180421 20180411 20180412\n",
      " 20180925 20180926 20180401 20180422 20180911 20180912 20180423 20180501\n",
      " 20180408 20180419 20180928 20180416 20180409 20180929 20180927 20180913\n",
      " 20180915 20180418 20180404 20180916 20180919 20180413 20180910 20180920\n",
      " 20180921 20180427 20180716 20180722 20180717 20180718 20180428 20180424\n",
      " 20180922 20180914 20180923 20180924 20180930 20180907 20180425 20180715\n",
      " 20180918 20180917 20180723 20180719 20180429 20180531 20180705 20180720\n",
      " 20180612 20180901 20180704 20180601 20180902 20180502 20180903 20180706\n",
      " 20180613 20180905 20180904 20180906 20180908 20180909 20180707 20180725\n",
      " 20180603 20180604 20180605 20180730 20180503 20180805 20180804 20180828\n",
      " 20180808 20180504 20180826 20180606 20180629 20180630 20180823 20180824\n",
      " 20180729 20180810 20180821 20180711 20180712 20180827 20180505 20180727\n",
      " 20180728 20180807 20180510 20180511 20180806 20180710 20180822 20180703\n",
      " 20180830 20180829 20180614 20180825 20180814 20180813 20180623 20180520\n",
      " 20180708 20180521 20180713 20180618 20180616 20180809 20180507 20180811\n",
      " 20180607 20180615 20180509 20180608 20180508 20180812 20180619 20180522\n",
      " 20180831 20180624 20180816 20180523 20180506 20180714 20180726 20180701\n",
      " 20180617 20180611 20180602 20180815 20180817 20180627 20180731 20180724\n",
      " 20180819 20180818 20180525 20180512 20180524 20180626 20180620 20180609\n",
      " 20180610 20180513 20180526 20180527 20180625 20180709 20180628 20180621\n",
      " 20180802 20180801 20180820 20180515 20180517 20180803 20180528 20180514\n",
      " 20180529 20180622 20180702 20180518 20180519 20180530 20180516]\n",
      "colum : KWD_NM, unique count : 84607\n",
      "['닥스원피스' '닥터지 브라이트닝' '달팡 인트랄' ... 'silicone' '첨이첨이아동양면내복' 'daks kids']\n",
      "colum : SEARCH_CNT, unique count : 1436\n",
      "['8' '1' '2' ... '1,604' '980' '1,381']\n",
      "colum : SEARCH_CNT_int, unique count : 1436\n",
      "[   8    1    2 ... 1604  980 1381]\n"
     ]
    }
   ],
   "source": [
    "for i in sch2.columns:\n",
    "    print(\"colum : {}, unique count : {}\".format(i,sch2[i].nunique()))\n",
    "    print(sch2[i].unique())"
   ]
  },
  {
   "cell_type": "markdown",
   "metadata": {},
   "source": [
    "### 궁금증\n",
    "- 닥스=daks, 검색어(KWD_NM)의 중복이 있을 것으로 보인다...(한국어-영어 동일어)\n",
    "- 일별로 검색키워드의 변화를 볼 수 있지 않을까?\n",
    "- 공공데이터와 어떻게 연관지을수 있을까? 날이 더워지면, 반팔티의 검색량이 증가하나?"
   ]
  },
  {
   "cell_type": "code",
   "execution_count": null,
   "metadata": {},
   "outputs": [],
   "source": []
  }
 ],
 "metadata": {
  "kernelspec": {
   "display_name": "Python 3",
   "language": "python",
   "name": "python3"
  },
  "language_info": {
   "codemirror_mode": {
    "name": "ipython",
    "version": 3
   },
   "file_extension": ".py",
   "mimetype": "text/x-python",
   "name": "python",
   "nbconvert_exporter": "python",
   "pygments_lexer": "ipython3",
   "version": "3.6.6"
  }
 },
 "nbformat": 4,
 "nbformat_minor": 2
}
